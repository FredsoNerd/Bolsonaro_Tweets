{
 "cells": [
  {
   "cell_type": "markdown",
   "metadata": {},
   "source": [
    "# Scrapping and preparing data"
   ]
  },
  {
   "cell_type": "code",
   "execution_count": 28,
   "metadata": {},
   "outputs": [],
   "source": [
    "import pandas as pd\n",
    "import tweepy as tw\n",
    "import getpass"
   ]
  },
  {
   "cell_type": "markdown",
   "metadata": {},
   "source": [
    "## Kraggle data\n",
    "The dataset from Kraggle _Jair Bolsonaro Twitter Data_ presents a collection of 3 thousands of tweets from president Jair Bolsonaro."
   ]
  },
  {
   "cell_type": "code",
   "execution_count": 23,
   "metadata": {},
   "outputs": [
    {
     "data": {
      "text/html": [
       "<div>\n",
       "<style scoped>\n",
       "    .dataframe tbody tr th:only-of-type {\n",
       "        vertical-align: middle;\n",
       "    }\n",
       "\n",
       "    .dataframe tbody tr th {\n",
       "        vertical-align: top;\n",
       "    }\n",
       "\n",
       "    .dataframe thead th {\n",
       "        text-align: right;\n",
       "    }\n",
       "</style>\n",
       "<table border=\"1\" class=\"dataframe\">\n",
       "  <thead>\n",
       "    <tr style=\"text-align: right;\">\n",
       "      <th></th>\n",
       "      <th>date</th>\n",
       "      <th>text</th>\n",
       "      <th>likes</th>\n",
       "      <th>retweets</th>\n",
       "      <th>link</th>\n",
       "    </tr>\n",
       "  </thead>\n",
       "  <tbody>\n",
       "    <tr>\n",
       "      <th>0</th>\n",
       "      <td>2020-04-29</td>\n",
       "      <td>O @govbr utilizará R$ 500 milhões para a aquis...</td>\n",
       "      <td>4250</td>\n",
       "      <td>808</td>\n",
       "      <td>https://twitter.com/jairbolsonaro/status/12555...</td>\n",
       "    </tr>\n",
       "    <tr>\n",
       "      <th>1</th>\n",
       "      <td>2020-04-29</td>\n",
       "      <td>13- Mais de 17,7 mil brasileiros repatriados;\\...</td>\n",
       "      <td>12314</td>\n",
       "      <td>1830</td>\n",
       "      <td>https://twitter.com/jairbolsonaro/status/12554...</td>\n",
       "    </tr>\n",
       "    <tr>\n",
       "      <th>2</th>\n",
       "      <td>2020-04-29</td>\n",
       "      <td>10-  30,1 mil brasileiros curados da covid-19;...</td>\n",
       "      <td>13232</td>\n",
       "      <td>1854</td>\n",
       "      <td>https://twitter.com/jairbolsonaro/status/12554...</td>\n",
       "    </tr>\n",
       "    <tr>\n",
       "      <th>3</th>\n",
       "      <td>2020-04-29</td>\n",
       "      <td>7-  Suporte psicológico para equipes do SUS, v...</td>\n",
       "      <td>5121</td>\n",
       "      <td>941</td>\n",
       "      <td>https://twitter.com/jairbolsonaro/status/12554...</td>\n",
       "    </tr>\n",
       "    <tr>\n",
       "      <th>4</th>\n",
       "      <td>2020-04-29</td>\n",
       "      <td>4- Conclusão do Hospital de Campanha do Govern...</td>\n",
       "      <td>4247</td>\n",
       "      <td>882</td>\n",
       "      <td>https://twitter.com/jairbolsonaro/status/12554...</td>\n",
       "    </tr>\n",
       "  </tbody>\n",
       "</table>\n",
       "</div>"
      ],
      "text/plain": [
       "        date                                               text  likes  \\\n",
       "0 2020-04-29  O @govbr utilizará R$ 500 milhões para a aquis...   4250   \n",
       "1 2020-04-29  13- Mais de 17,7 mil brasileiros repatriados;\\...  12314   \n",
       "2 2020-04-29  10-  30,1 mil brasileiros curados da covid-19;...  13232   \n",
       "3 2020-04-29  7-  Suporte psicológico para equipes do SUS, v...   5121   \n",
       "4 2020-04-29  4- Conclusão do Hospital de Campanha do Govern...   4247   \n",
       "\n",
       "   retweets                                               link  \n",
       "0       808  https://twitter.com/jairbolsonaro/status/12555...  \n",
       "1      1830  https://twitter.com/jairbolsonaro/status/12554...  \n",
       "2      1854  https://twitter.com/jairbolsonaro/status/12554...  \n",
       "3       941  https://twitter.com/jairbolsonaro/status/12554...  \n",
       "4       882  https://twitter.com/jairbolsonaro/status/12554...  "
      ]
     },
     "execution_count": 23,
     "metadata": {},
     "output_type": "execute_result"
    }
   ],
   "source": [
    "kraggle_data = pd.read_csv(\"bolsonaro_tweets.csv\")\n",
    "kraggle_data.date = pd.to_datetime(kraggle_data.date)\n",
    "kraggle_data.head()"
   ]
  },
  {
   "cell_type": "code",
   "execution_count": 19,
   "metadata": {},
   "outputs": [
    {
     "name": "stdout",
     "output_type": "stream",
     "text": [
      "The time period of 3120 tweets are from 2010-04-01 to 2020-04-29.\n"
     ]
    }
   ],
   "source": [
    "print(\"The time period of \" +  str(len(kraggle_data))+\" tweets are from \" +  str(kraggle_data.date.min())[0:10] +\" to \" +  str(kraggle_data.date.max())[0:10] + \".\")"
   ]
  },
  {
   "cell_type": "markdown",
   "metadata": {},
   "source": [
    "## Twitter scrapping"
   ]
  },
  {
   "cell_type": "code",
   "execution_count": 30,
   "metadata": {},
   "outputs": [
    {
     "name": "stdout",
     "output_type": "stream",
     "text": [
      "········\n"
     ]
    }
   ],
   "source": [
    "consumer_key = getpass.getpass()"
   ]
  },
  {
   "cell_type": "code",
   "execution_count": 31,
   "metadata": {},
   "outputs": [
    {
     "name": "stdout",
     "output_type": "stream",
     "text": [
      "········\n"
     ]
    }
   ],
   "source": [
    "consumer_secret = getpass.getpass()"
   ]
  },
  {
   "cell_type": "code",
   "execution_count": 32,
   "metadata": {},
   "outputs": [
    {
     "name": "stdout",
     "output_type": "stream",
     "text": [
      "········\n"
     ]
    }
   ],
   "source": [
    "access_token = getpass.getpass()"
   ]
  },
  {
   "cell_type": "code",
   "execution_count": 33,
   "metadata": {},
   "outputs": [
    {
     "name": "stdout",
     "output_type": "stream",
     "text": [
      "········\n"
     ]
    }
   ],
   "source": [
    "access_token_secret = getpass.getpass()"
   ]
  },
  {
   "cell_type": "code",
   "execution_count": 34,
   "metadata": {},
   "outputs": [],
   "source": [
    "auth = tw.OAuthHandler(consumer_key, consumer_secret)\n",
    "auth.set_access_token(access_token, access_token_secret)\n",
    "api = tw.API(auth, wait_on_rate_limit=True)"
   ]
  },
  {
   "cell_type": "code",
   "execution_count": 38,
   "metadata": {},
   "outputs": [
    {
     "name": "stdout",
     "output_type": "stream",
     "text": [
      "- Água para quem tem sede.\n",
      "- Liberdade para um povo. \n",
      "- Brasil acima de tudo, Deus acima de todos!\n",
      "- BOM DIA.\n",
      "\n",
      ". Yo… https://t.co/gA9njShJZr\n",
      "@tarcisiogdf @MInfraestrutura 🤝🇧🇷, Ministro!\n",
      "2- @MinEconomia @MinCidadania @onyxlorenzoni @MEC_Comunicacao @ItamaratyGovBr @ernestofaraujo https://t.co/WVf6V7pqzC\n",
      "1- Acompanhe as redes sociais! @secomvc @fabiofaria5555 @tarcisiogdf @MInfraestrutura @MinEconomia @minsaude… https://t.co/cGGfnYCy6n\n",
      "@tvbrasilgov @Minas_Energia @govbr 🤝🇧🇷\n",
      "- BOM DIA A TODOS. https://t.co/yLAO3SscLh\n",
      "B- Caberá ao STF a oportunidade, com seu zelo e responsabilidade, interpretar sobre liberdades de manifestação do p… https://t.co/7UAyjFbLv9\n",
      "A- Agora às 18hs, juntamente com a @AdvocaciaGeral , entrei com uma ADIn no STF visando ao cumprimento de dispositi… https://t.co/aUhHY0VVP5\n",
      "@secomvc 🤝🇧🇷👍🏻\n",
      "4- Mais informações: atenção desde o início à populações indígenas no Brasil. @DHumanosBrasil @DamaresAlves… https://t.co/MRIL1QDkQh\n",
      "3- O @ItamaratyGovBr , @ernestofaraujo , segue o trabalho com sua equipe: Em ação conjunta das Embaixadas em Abidjã… https://t.co/ffZbmMPITk\n"
     ]
    }
   ],
   "source": [
    "k = 0\n",
    "for tweet in tw.Cursor(api.user_timeline,id='jairbolsonaro', tweet_model = 'extended').items():\n",
    "    print(tweet.text)\n",
    "    k += 1\n",
    "    if k > 10:\n",
    "        break"
   ]
  },
  {
   "cell_type": "code",
   "execution_count": null,
   "metadata": {},
   "outputs": [],
   "source": []
  }
 ],
 "metadata": {
  "kernelspec": {
   "display_name": "Python 3",
   "language": "python",
   "name": "python3"
  },
  "language_info": {
   "codemirror_mode": {
    "name": "ipython",
    "version": 3
   },
   "file_extension": ".py",
   "mimetype": "text/x-python",
   "name": "python",
   "nbconvert_exporter": "python",
   "pygments_lexer": "ipython3",
   "version": "3.7.6"
  }
 },
 "nbformat": 4,
 "nbformat_minor": 4
}
