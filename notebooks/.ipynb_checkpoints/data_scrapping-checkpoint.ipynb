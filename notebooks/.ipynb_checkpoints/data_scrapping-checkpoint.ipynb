{
 "cells": [
  {
   "cell_type": "markdown",
   "metadata": {},
   "source": [
    "# Scrapping and preparing data"
   ]
  },
  {
   "cell_type": "code",
   "execution_count": 13,
   "metadata": {},
   "outputs": [],
   "source": [
    "import pandas as pd\n",
    "import tweepy as tw\n",
    "import pickle as pkl\n",
    "import getpass"
   ]
  },
  {
   "cell_type": "markdown",
   "metadata": {},
   "source": [
    "## Kraggle data\n",
    "The dataset from Kraggle _Jair Bolsonaro Twitter Data_ presents a collection of 3 thousands of tweets from president Jair Bolsonaro."
   ]
  },
  {
   "cell_type": "code",
   "execution_count": 14,
   "metadata": {},
   "outputs": [
    {
     "data": {
      "text/html": [
       "<div>\n",
       "<style scoped>\n",
       "    .dataframe tbody tr th:only-of-type {\n",
       "        vertical-align: middle;\n",
       "    }\n",
       "\n",
       "    .dataframe tbody tr th {\n",
       "        vertical-align: top;\n",
       "    }\n",
       "\n",
       "    .dataframe thead th {\n",
       "        text-align: right;\n",
       "    }\n",
       "</style>\n",
       "<table border=\"1\" class=\"dataframe\">\n",
       "  <thead>\n",
       "    <tr style=\"text-align: right;\">\n",
       "      <th></th>\n",
       "      <th>date</th>\n",
       "      <th>text</th>\n",
       "      <th>likes</th>\n",
       "      <th>retweets</th>\n",
       "      <th>link</th>\n",
       "    </tr>\n",
       "  </thead>\n",
       "  <tbody>\n",
       "    <tr>\n",
       "      <th>0</th>\n",
       "      <td>2020-04-29</td>\n",
       "      <td>O @govbr utilizará R$ 500 milhões para a aquis...</td>\n",
       "      <td>4250</td>\n",
       "      <td>808</td>\n",
       "      <td>https://twitter.com/jairbolsonaro/status/12555...</td>\n",
       "    </tr>\n",
       "    <tr>\n",
       "      <th>1</th>\n",
       "      <td>2020-04-29</td>\n",
       "      <td>13- Mais de 17,7 mil brasileiros repatriados;\\...</td>\n",
       "      <td>12314</td>\n",
       "      <td>1830</td>\n",
       "      <td>https://twitter.com/jairbolsonaro/status/12554...</td>\n",
       "    </tr>\n",
       "    <tr>\n",
       "      <th>2</th>\n",
       "      <td>2020-04-29</td>\n",
       "      <td>10-  30,1 mil brasileiros curados da covid-19;...</td>\n",
       "      <td>13232</td>\n",
       "      <td>1854</td>\n",
       "      <td>https://twitter.com/jairbolsonaro/status/12554...</td>\n",
       "    </tr>\n",
       "    <tr>\n",
       "      <th>3</th>\n",
       "      <td>2020-04-29</td>\n",
       "      <td>7-  Suporte psicológico para equipes do SUS, v...</td>\n",
       "      <td>5121</td>\n",
       "      <td>941</td>\n",
       "      <td>https://twitter.com/jairbolsonaro/status/12554...</td>\n",
       "    </tr>\n",
       "    <tr>\n",
       "      <th>4</th>\n",
       "      <td>2020-04-29</td>\n",
       "      <td>4- Conclusão do Hospital de Campanha do Govern...</td>\n",
       "      <td>4247</td>\n",
       "      <td>882</td>\n",
       "      <td>https://twitter.com/jairbolsonaro/status/12554...</td>\n",
       "    </tr>\n",
       "  </tbody>\n",
       "</table>\n",
       "</div>"
      ],
      "text/plain": [
       "        date                                               text  likes  \\\n",
       "0 2020-04-29  O @govbr utilizará R$ 500 milhões para a aquis...   4250   \n",
       "1 2020-04-29  13- Mais de 17,7 mil brasileiros repatriados;\\...  12314   \n",
       "2 2020-04-29  10-  30,1 mil brasileiros curados da covid-19;...  13232   \n",
       "3 2020-04-29  7-  Suporte psicológico para equipes do SUS, v...   5121   \n",
       "4 2020-04-29  4- Conclusão do Hospital de Campanha do Govern...   4247   \n",
       "\n",
       "   retweets                                               link  \n",
       "0       808  https://twitter.com/jairbolsonaro/status/12555...  \n",
       "1      1830  https://twitter.com/jairbolsonaro/status/12554...  \n",
       "2      1854  https://twitter.com/jairbolsonaro/status/12554...  \n",
       "3       941  https://twitter.com/jairbolsonaro/status/12554...  \n",
       "4       882  https://twitter.com/jairbolsonaro/status/12554...  "
      ]
     },
     "execution_count": 14,
     "metadata": {},
     "output_type": "execute_result"
    }
   ],
   "source": [
    "kraggle_data = pd.read_csv(\"bolsonaro_tweets.csv\")\n",
    "kraggle_data.date = pd.to_datetime(kraggle_data.date)\n",
    "kraggle_data.head()"
   ]
  },
  {
   "cell_type": "code",
   "execution_count": 15,
   "metadata": {},
   "outputs": [
    {
     "name": "stdout",
     "output_type": "stream",
     "text": [
      "The time period of 3120 tweets are from 2010-04-01 to 2020-04-29.\n"
     ]
    }
   ],
   "source": [
    "print(\"The time period of \" +  str(len(kraggle_data))+\" tweets are from \" +  str(kraggle_data.date.min())[0:10] +\" to \" +  str(kraggle_data.date.max())[0:10] + \".\")"
   ]
  },
  {
   "cell_type": "markdown",
   "metadata": {},
   "source": [
    "## Twitter scrapping\n",
    "We can also obtain the data from Jair Bolsonaro, Flávio Bolsonaro, Carlos Bolsonaro and Eduardo Bolsonaro from the Twitter API using Tweepy. Although, the acess if permited for only the last 3200 tweets, so it isn't the full history of tweets. "
   ]
  },
  {
   "cell_type": "code",
   "execution_count": 3,
   "metadata": {},
   "outputs": [
    {
     "name": "stdout",
     "output_type": "stream",
     "text": [
      "········\n"
     ]
    }
   ],
   "source": [
    "consumer_key = getpass.getpass()"
   ]
  },
  {
   "cell_type": "code",
   "execution_count": 4,
   "metadata": {},
   "outputs": [
    {
     "name": "stdout",
     "output_type": "stream",
     "text": [
      "········\n"
     ]
    }
   ],
   "source": [
    "consumer_secret = getpass.getpass()"
   ]
  },
  {
   "cell_type": "code",
   "execution_count": 5,
   "metadata": {},
   "outputs": [
    {
     "name": "stdout",
     "output_type": "stream",
     "text": [
      "········\n"
     ]
    }
   ],
   "source": [
    "access_token = getpass.getpass()"
   ]
  },
  {
   "cell_type": "code",
   "execution_count": 6,
   "metadata": {},
   "outputs": [
    {
     "name": "stdout",
     "output_type": "stream",
     "text": [
      "········\n"
     ]
    }
   ],
   "source": [
    "access_token_secret = getpass.getpass()"
   ]
  },
  {
   "cell_type": "code",
   "execution_count": 7,
   "metadata": {},
   "outputs": [],
   "source": [
    "auth = tw.OAuthHandler(consumer_key, consumer_secret)\n",
    "auth.set_access_token(access_token, access_token_secret)\n",
    "api = tw.API(auth, wait_on_rate_limit=True)"
   ]
  },
  {
   "cell_type": "code",
   "execution_count": 20,
   "metadata": {},
   "outputs": [],
   "source": [
    "#requesting data from twitter\n",
    "twitter_data = {}\n",
    "for user in ['jairbolsonaro', 'bolsonarosp', 'flaviobolsonaro', 'carlosbolsonaro']:\n",
    "    twitter_data[user] = [tweet for tweet in tw.Cursor(api.user_timeline,id=user, tweet_mode =\"extended\").items()]"
   ]
  },
  {
   "cell_type": "code",
   "execution_count": 22,
   "metadata": {},
   "outputs": [],
   "source": [
    "#saving original data\n",
    "with open(\"brute_scrapping,pkl\", \"wb+\") as f:\n",
    "    pkl.dump(twitter_data, f)"
   ]
  },
  {
   "cell_type": "code",
   "execution_count": 36,
   "metadata": {},
   "outputs": [
    {
     "data": {
      "text/html": [
       "<div>\n",
       "<style scoped>\n",
       "    .dataframe tbody tr th:only-of-type {\n",
       "        vertical-align: middle;\n",
       "    }\n",
       "\n",
       "    .dataframe tbody tr th {\n",
       "        vertical-align: top;\n",
       "    }\n",
       "\n",
       "    .dataframe thead th {\n",
       "        text-align: right;\n",
       "    }\n",
       "</style>\n",
       "<table border=\"1\" class=\"dataframe\">\n",
       "  <thead>\n",
       "    <tr style=\"text-align: right;\">\n",
       "      <th></th>\n",
       "      <th>name</th>\n",
       "      <th>text</th>\n",
       "      <th>date</th>\n",
       "      <th>place</th>\n",
       "      <th>retweets</th>\n",
       "      <th>favorites</th>\n",
       "    </tr>\n",
       "  </thead>\n",
       "  <tbody>\n",
       "    <tr>\n",
       "      <th>0</th>\n",
       "      <td>jairbolsonaro</td>\n",
       "      <td>-Edifício Joelma/SP, 1974.\\n\\n-Sgt CASSANIGA s...</td>\n",
       "      <td>2020-07-27 20:51:13+00:00</td>\n",
       "      <td>None</td>\n",
       "      <td>3154</td>\n",
       "      <td>16202</td>\n",
       "    </tr>\n",
       "    <tr>\n",
       "      <th>1</th>\n",
       "      <td>jairbolsonaro</td>\n",
       "      <td>- Água para quem tem sede.\\n- Liberdade para u...</td>\n",
       "      <td>2020-07-27 11:10:36+00:00</td>\n",
       "      <td>None</td>\n",
       "      <td>8101</td>\n",
       "      <td>37357</td>\n",
       "    </tr>\n",
       "    <tr>\n",
       "      <th>2</th>\n",
       "      <td>jairbolsonaro</td>\n",
       "      <td>@tarcisiogdf @MInfraestrutura 🤝🇧🇷, Ministro!</td>\n",
       "      <td>2020-07-26 20:18:19+00:00</td>\n",
       "      <td>None</td>\n",
       "      <td>1074</td>\n",
       "      <td>16840</td>\n",
       "    </tr>\n",
       "    <tr>\n",
       "      <th>3</th>\n",
       "      <td>jairbolsonaro</td>\n",
       "      <td>2- @MinEconomia @MinCidadania @onyxlorenzoni @...</td>\n",
       "      <td>2020-07-26 15:40:39+00:00</td>\n",
       "      <td>None</td>\n",
       "      <td>1337</td>\n",
       "      <td>6383</td>\n",
       "    </tr>\n",
       "    <tr>\n",
       "      <th>4</th>\n",
       "      <td>jairbolsonaro</td>\n",
       "      <td>1- Acompanhe as redes sociais! @secomvc @fabio...</td>\n",
       "      <td>2020-07-26 15:39:47+00:00</td>\n",
       "      <td>None</td>\n",
       "      <td>3287</td>\n",
       "      <td>14836</td>\n",
       "    </tr>\n",
       "  </tbody>\n",
       "</table>\n",
       "</div>"
      ],
      "text/plain": [
       "            name                                               text  \\\n",
       "0  jairbolsonaro  -Edifício Joelma/SP, 1974.\\n\\n-Sgt CASSANIGA s...   \n",
       "1  jairbolsonaro  - Água para quem tem sede.\\n- Liberdade para u...   \n",
       "2  jairbolsonaro       @tarcisiogdf @MInfraestrutura 🤝🇧🇷, Ministro!   \n",
       "3  jairbolsonaro  2- @MinEconomia @MinCidadania @onyxlorenzoni @...   \n",
       "4  jairbolsonaro  1- Acompanhe as redes sociais! @secomvc @fabio...   \n",
       "\n",
       "                       date place  retweets  favorites  \n",
       "0 2020-07-27 20:51:13+00:00  None      3154      16202  \n",
       "1 2020-07-27 11:10:36+00:00  None      8101      37357  \n",
       "2 2020-07-26 20:18:19+00:00  None      1074      16840  \n",
       "3 2020-07-26 15:40:39+00:00  None      1337       6383  \n",
       "4 2020-07-26 15:39:47+00:00  None      3287      14836  "
      ]
     },
     "execution_count": 36,
     "metadata": {},
     "output_type": "execute_result"
    }
   ],
   "source": [
    "#script to create a dataframe from the data\n",
    "date = []\n",
    "text = []\n",
    "user_name = []\n",
    "place = []\n",
    "retweets = []\n",
    "favorites = []\n",
    "for user in ['jairbolsonaro', 'bolsonarosp', 'flaviobolsonaro', 'carlosbolsonaro']:\n",
    "    for tweet in twitter_data[user]:\n",
    "        date.append(tweet._json['created_at'])\n",
    "        text.append(tweet._json['full_text'])\n",
    "        user_name.append(user)\n",
    "        place.append(tweet._json['place'])\n",
    "        retweets.append(tweet._json['retweet_count'])\n",
    "        favorites.append(tweet._json['favorite_count'])\n",
    "API_data = pd.DataFrame({'name': user_name, 'text': text, 'date': pd.to_datetime(date), \n",
    "                         'place': place, 'retweets': retweets, 'favorites':favorites})\n",
    "API_data.head()"
   ]
  },
  {
   "cell_type": "code",
   "execution_count": 51,
   "metadata": {},
   "outputs": [],
   "source": [
    "API_data.to_csv('API_data.csv', sep = \"~\")"
   ]
  }
 ],
 "metadata": {
  "kernelspec": {
   "display_name": "Python 3",
   "language": "python",
   "name": "python3"
  },
  "language_info": {
   "codemirror_mode": {
    "name": "ipython",
    "version": 3
   },
   "file_extension": ".py",
   "mimetype": "text/x-python",
   "name": "python",
   "nbconvert_exporter": "python",
   "pygments_lexer": "ipython3",
   "version": "3.7.3"
  }
 },
 "nbformat": 4,
 "nbformat_minor": 4
}
