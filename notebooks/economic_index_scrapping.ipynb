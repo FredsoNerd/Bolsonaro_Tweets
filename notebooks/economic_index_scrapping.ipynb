{
 "cells": [
  {
   "cell_type": "markdown",
   "metadata": {},
   "source": [
    "# Scrapping Brazil economic index\n",
    "\n",
    "We will request the data from BACEN (Central Bank of Brazil) using it's API. We will request the time series for some important indicators like GDP, IPCA, NPCC. The code here is based on the video from __Código Quant - Finanças Quantitativas__: [COMO ACESSAR A BASE DE DADOS DO BANCO CENTRAL DO BRASIL COM PYTHON | Python para Investimentos #10](https://www.youtube.com/watch?v=7rFsu48oBn8)."
   ]
  },
  {
   "cell_type": "code",
   "execution_count": 17,
   "metadata": {},
   "outputs": [],
   "source": [
    "import pandas as pd\n",
    "import time"
   ]
  },
  {
   "cell_type": "code",
   "execution_count": 19,
   "metadata": {},
   "outputs": [],
   "source": [
    "def query_bc(code):\n",
    "    url = 'http://api.bcb.gov.br/dados/serie/bcdata.sgs.{}/dados?formato=json'.format(code)\n",
    "    df = pd.read_json(url)\n",
    "    df['data'] = pd.to_datetime(df['data'], dayfirst=True)\n",
    "    df.set_index('data', inplace=True)\n",
    "    return df"
   ]
  },
  {
   "cell_type": "markdown",
   "metadata": {},
   "source": [
    "Getting individual series and it's csv's,"
   ]
  },
  {
   "cell_type": "code",
   "execution_count": 27,
   "metadata": {},
   "outputs": [],
   "source": [
    "ipca = query_bc(433) \n",
    "ipca.to_csv(\"..\\\\data\\\\economic_index\\\\ipca.csv\", sep = \";\")\n",
    "time.sleep(5)\n",
    "\n",
    "igpm = query_bc(189) \n",
    "igpm.to_csv(\"..\\\\data\\\\economic_index\\\\igpm.csv\", sep = \";\")\n",
    "time.sleep(5)\n",
    "\n",
    "inpc = query_bc(188)\n",
    "inpc.to_csv(\"..\\\\data\\\\economic_index\\\\inpc.csv\", sep = \";\")\n",
    "time.sleep(5)\n",
    "\n",
    "selic_meta = query_bc(432)\n",
    "selic_meta.to_csv(\"..\\\\data\\\\economic_index\\\\selic_meta.csv\", sep = \";\")\n",
    "time.sleep(5)\n",
    "\n",
    "international_reserve = query_bc(13621)\n",
    "international_reserve.to_csv(\"..\\\\data\\\\economic_index\\\\international_reserve.csv\", sep = \";\")\n",
    "time.sleep(5)\n",
    "\n",
    "pnad = query_bc(24369)\n",
    "pnad.to_csv(\"..\\\\data\\\\economic_index\\\\pnad.csv\", sep = \";\")\n",
    "time.sleep(5)\n",
    "\n",
    "cdi = query_bc(12)\n",
    "cdi.to_csv(\"..\\\\data\\\\economic_index\\\\cdi.csv\", sep = \";\")\n",
    "time.sleep(5)\n",
    "\n",
    "gdp = query_bc(4380)\n",
    "gdp.to_csv(\"..\\\\data\\\\economic_index\\\\gdp.csv\", sep = \";\")\n",
    "time.sleep(5)\n",
    "\n",
    "dollar = query_bc(1)\n",
    "dollar.to_csv(\"..\\\\data\\\\economic_index\\\\dollar.csv\", sep = \";\")\n",
    "time.sleep(5)\n",
    "\n",
    "employment = query_bc(25239)\n",
    "employment.to_csv(\"..\\\\data\\\\economic_index\\\\employment.csv\", sep = \";\")\n",
    "time.sleep(5)\n",
    "\n",
    "gov_debt = query_bc(4503)\n",
    "gov_debt.to_csv(\"..\\\\data\\\\economic_index\\\\gov_debt.csv\", sep = \";\")\n",
    "time.sleep(5)\n",
    "\n",
    "consumer_confidence = query_bc(4393)\n",
    "consumer_confidence.to_csv(\"..\\\\data\\\\economic_index\\\\consumer_confidence.csv\", sep = \";\")\n",
    "time.sleep(5)"
   ]
  },
  {
   "cell_type": "markdown",
   "metadata": {},
   "source": [
    "Creating a final dataframe with all economic time series, there will be empty values because some series are daily, others are monthly, or yearly."
   ]
  },
  {
   "cell_type": "code",
   "execution_count": 26,
   "metadata": {},
   "outputs": [],
   "source": [
    "economic_time_series = pd.merge(ipca, igpm, left_index = True, right_index= True, how= 'outer')\n",
    "economic_time_series = economic_time_series.merge(inpc, left_index = True, right_index= True, how= 'outer')\n",
    "economic_time_series = economic_time_series.merge(selic_meta, left_index = True, right_index= True, how= 'outer')\n",
    "economic_time_series = economic_time_series.merge(international_reserve, left_index = True, right_index= True, how= 'outer')\n",
    "economic_time_series = economic_time_series.merge(pnad,  left_index = True, right_index= True, how= 'outer')\n",
    "economic_time_series = economic_time_series.merge(cdi, left_index = True, right_index= True, how= 'outer')\n",
    "economic_time_series = economic_time_series.merge(gdp, left_index = True, right_index= True, how= 'outer')\n",
    "economic_time_series = economic_time_series.merge(dollar, left_index = True, right_index= True, how= 'outer')\n",
    "economic_time_series = economic_time_series.merge(employment, left_index = True, right_index= True, how= 'outer')\n",
    "economic_time_series = economic_time_series.merge(gov_debt, left_index = True, right_index= True, how= 'outer')\n",
    "economic_time_series = economic_time_series.merge(consumer_confidence, left_index = True, right_index= True, how= 'outer')\n",
    "\n",
    "economic_time_series.columns = [\"ipca\", \"igpm\", \"inpc\", \"selic_meta\", \"international_reserve\",\n",
    "                                      \"pnad\", \"cdi\", \"gdp\", \"dollar\", \"employment\", \"gov_debt\", \"consumer_confidence\"]\n",
    "economic_time_series.to_csv(\"..\\\\data\\\\economic_index\\\\economic_time_series.csv\", sep = \";\")"
   ]
  },
  {
   "cell_type": "code",
   "execution_count": null,
   "metadata": {},
   "outputs": [],
   "source": []
  }
 ],
 "metadata": {
  "kernelspec": {
   "display_name": "Python 3",
   "language": "python",
   "name": "python3"
  },
  "language_info": {
   "codemirror_mode": {
    "name": "ipython",
    "version": 3
   },
   "file_extension": ".py",
   "mimetype": "text/x-python",
   "name": "python",
   "nbconvert_exporter": "python",
   "pygments_lexer": "ipython3",
   "version": "3.7.6"
  }
 },
 "nbformat": 4,
 "nbformat_minor": 4
}
